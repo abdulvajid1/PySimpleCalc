{
 "cells": [
  {
   "cell_type": "code",
   "execution_count": 2,
   "id": "7732c215-84fe-4538-a61c-e83adf0d1982",
   "metadata": {},
   "outputs": [],
   "source": [
    "from tkinter import *"
   ]
  },
  {
   "cell_type": "code",
   "execution_count": 3,
   "id": "e9165fff-236b-4aea-8079-6a8f8d6c3279",
   "metadata": {},
   "outputs": [],
   "source": [
    "from tkinter import Tk, Label, Button\n",
    "\n",
    "class Calculator:\n",
    "    def __init__(self):\n",
    "        self.window = None\n",
    "        self.label = None\n",
    "        self.buttons = {}\n",
    "\n",
    "    def calculator_window(self):\n",
    "        # Configuring window\n",
    "        self.window = Tk()\n",
    "        self.window.geometry(\"320x400\")\n",
    "        self.window.title('Calculator')\n",
    "        self.window.resizable(False, False)\n",
    "        self.window.configure(background='#333232')\n",
    "\n",
    "        # Configuring TextBox\n",
    "        self.label = Label(self.window, font=(\"Arial\", 30), bg='#333232', fg='white', text=\"0\")\n",
    "        self.label.grid(row=0, column=0, columnspan=10, padx=5, pady=10)\n",
    "        self.label.config(state='normal')\n",
    "\n",
    "        # Buttons\n",
    "        button_texts = [\n",
    "            ('7', 1, 0), ('8', 1, 1), ('9', 1, 2), ('/', 1, 3),\n",
    "            ('4', 2, 0), ('5', 2, 1), ('6', 2, 2), ('*', 2, 3),\n",
    "            ('1', 3, 0), ('2', 3, 1), ('3', 3, 2), ('-', 3, 3),\n",
    "            ('0', 4, 0), ('C', 4, 1), ('=', 4, 2), ('+', 4, 3)\n",
    "        ]\n",
    "        for (text, row, column) in button_texts:\n",
    "            self.create_button(text, row, column)\n",
    "\n",
    "        self.window.mainloop()\n",
    "\n",
    "    def evaluation(self, expression):\n",
    "        try:\n",
    "            result = eval(expression)\n",
    "            return result\n",
    "        except Exception as e:\n",
    "            return \"Error\"\n",
    "\n",
    "    def on_button_click(self, text):\n",
    "        if text == \"C\":\n",
    "            self.label.config(text=\"0\")\n",
    "        elif text == \"=\":\n",
    "            expression = self.label.cget(\"text\")\n",
    "            result = self.evaluation(expression)\n",
    "            self.label.config(text=str(result))\n",
    "        else:\n",
    "            current_text = self.label.cget(\"text\")\n",
    "            if current_text == \"0\":\n",
    "                self.label.config(text=text)\n",
    "            else:\n",
    "                self.label.config(text=current_text + text)\n",
    "\n",
    "    def create_button(self, text, row, column):\n",
    "        button = Button(self.window, text=text, width=8, height=4, command=lambda t=text: self.on_button_click(t),fg='white',bg='#333232')\n",
    "        button.grid(row=row, column=column, padx=7, pady=5)\n",
    "        self.buttons[text] = button\n",
    "        return button\n",
    "\n",
    "calc = Calculator()\n",
    "calc.calculator_window()"
   ]
  },
  {
   "cell_type": "code",
   "execution_count": 12,
   "id": "d3c07763-0484-48a3-9392-82f1d5dbf392",
   "metadata": {},
   "outputs": [
    {
     "ename": "SyntaxError",
     "evalue": "invalid syntax (1018089887.py, line 2)",
     "output_type": "error",
     "traceback": [
      "\u001b[1;36m  Cell \u001b[1;32mIn[12], line 2\u001b[1;36m\u001b[0m\n\u001b[1;33m    git commit -m \"first commit\"\u001b[0m\n\u001b[1;37m        ^\u001b[0m\n\u001b[1;31mSyntaxError\u001b[0m\u001b[1;31m:\u001b[0m invalid syntax\n"
     ]
    }
   ],
   "source": [
    "!git add .\n",
    "git commit -m \"first commit\"\n",
    "git push -u origin master"
   ]
  }
 ],
 "metadata": {
  "kernelspec": {
   "display_name": "Python 3 (ipykernel)",
   "language": "python",
   "name": "python3"
  },
  "language_info": {
   "codemirror_mode": {
    "name": "ipython",
    "version": 3
   },
   "file_extension": ".py",
   "mimetype": "text/x-python",
   "name": "python",
   "nbconvert_exporter": "python",
   "pygments_lexer": "ipython3",
   "version": "3.11.5"
  }
 },
 "nbformat": 4,
 "nbformat_minor": 5
}
